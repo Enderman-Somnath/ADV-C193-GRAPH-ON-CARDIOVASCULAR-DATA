{
 "cells": [
  {
   "cell_type": "code",
   "execution_count": null,
   "metadata": {},
   "outputs": [],
   "source": [
    "print('Name : ')\n",
    "print('Plot a line graph to find the average cholestrol found in various age groups')\n",
    "print('Plot a line graph to find the correlation between systolic and diastolic blood pressure found in various age groups')"
   ]
  },
  {
   "cell_type": "code",
   "execution_count": null,
   "metadata": {},
   "outputs": [],
   "source": [
    "#Task 1 \n",
    "#Import all the libraries and read cardiovascular.csv\n",
    "import pandas as pd\n",
    "import matplotlib.pyplot as plt\n",
    "\n",
    "df = pd.read_csv('cardiovascular.csv')\n",
    "df"
   ]
  },
  {
   "cell_type": "markdown",
   "metadata": {},
   "source": [
    "# Average cholestrol found in various age groups"
   ]
  },
  {
   "cell_type": "code",
   "execution_count": null,
   "metadata": {},
   "outputs": [],
   "source": [
    "#Task 2 \n",
    "#Group by age and find the average cholesterol and make a dataframe out of it\n",
    "group_by_age = df.groupby('age')['cholesterol'].mean().reset_index(name='cholesterol')\n",
    "group_by_age"
   ]
  },
  {
   "cell_type": "code",
   "execution_count": null,
   "metadata": {},
   "outputs": [],
   "source": [
    "#Task 3 \n",
    "#Plot a line graph for various age group and their cholesterol \n",
    "value = group_by_age['age']\n",
    "label = group_by_age['cholesterol']\n",
    "\n",
    "figsize = plt.subplots(figsize=(19,8))\n",
    "\n",
    "plt.plot(label, value, label = \"AVERAGE CHOLESTEROL\" , linewidth=3.0)\n",
    "plt.xlabel('Age')\n",
    "plt.xticks(rotation='vertical')\n",
    "plt.ylabel('Cholesterol')\n",
    "\n",
    "plt.title('AVERAGE CHOLESTEROL', fontsize=20)\n",
    "\n",
    "plt.legend()\n",
    "\n",
    "plt.show()"
   ]
  },
  {
   "cell_type": "markdown",
   "metadata": {},
   "source": [
    "Conclusion - "
   ]
  },
  {
   "cell_type": "markdown",
   "metadata": {},
   "source": [
    "# Correlation between systolic and diastolic blood pressure"
   ]
  },
  {
   "cell_type": "code",
   "execution_count": null,
   "metadata": {},
   "outputs": [],
   "source": [
    "# Diastolic blood pressure - is the pressure in the arteries when the heart rests between beats\n",
    "# Systolic blood pressure - the pressure in your arteries when your heart beats\n",
    "\n",
    "#predefine code for image\n",
    "from IPython.display import Image\n",
    "Image(filename='blood pressure readings chart.jpg') \n",
    "#predefine code end"
   ]
  },
  {
   "cell_type": "code",
   "execution_count": null,
   "metadata": {},
   "outputs": [],
   "source": [
    "#Task 4\n",
    "#Group by age and find maximum systolic blood pressure and create a dataframe project out of it\n",
    "group_by_age_systolic = df.groupby('age')['systolic_blood_pressure'].max().reset_index()\n",
    "group_by_age_systolic"
   ]
  },
  {
   "cell_type": "code",
   "execution_count": null,
   "metadata": {},
   "outputs": [],
   "source": []
  },
  {
   "cell_type": "code",
   "execution_count": null,
   "metadata": {},
   "outputs": [],
   "source": [
    "#Task 5\n",
    "#Group by age and find maximum diastolic blood pressure and create a dataframe project out of it\n",
    "group_by_age_diastolic = df.groupby('age')['diastolic_blood_pressure'].max().reset_index()\n",
    "group_by_age_diastolic"
   ]
  },
  {
   "cell_type": "code",
   "execution_count": null,
   "metadata": {},
   "outputs": [],
   "source": [
    "#Task 6\n",
    "#Plot a line graph to show a Correlation between systolic and diastolic blood pressure\n",
    "label = group_by_age_systolic['age']\n",
    "value = group_by_age_systolic['systolic_blood_pressure']\n",
    "\n",
    "figsize = plt.subplots(figsize=(19,8))\n",
    "\n",
    "plt.plot(label,value,label = \"age\",linewidth=3.0)\n",
    "\n",
    "\n",
    "label = group_by_age_diastolic['age']\n",
    "value = group_by_age_diastolic['diastolic_blood_pressure']\n",
    "\n",
    "plt.plot(label,value,label = \"age\")\n",
    "\n",
    "plt.xlabel('Age')\n",
    "plt.xticks(rotation='vertical')\n",
    "plt.title('diastolic_blood_pressure',fontsize=20)\n",
    "\n",
    "plt.ylabel('blood_pressure')\n",
    "\n",
    "plt.legend()\n",
    "\n",
    "plt.show()"
   ]
  },
  {
   "cell_type": "markdown",
   "metadata": {},
   "source": [
    "Conclusion - "
   ]
  },
  {
   "cell_type": "code",
   "execution_count": null,
   "metadata": {},
   "outputs": [],
   "source": []
  }
 ],
 "metadata": {
  "kernelspec": {
   "display_name": "Python 3",
   "language": "python",
   "name": "python3"
  },
  "language_info": {
   "codemirror_mode": {
    "name": "ipython",
    "version": 3
   },
   "file_extension": ".py",
   "mimetype": "text/x-python",
   "name": "python",
   "nbconvert_exporter": "python",
   "pygments_lexer": "ipython3",
   "version": "3.11.6"
  }
 },
 "nbformat": 4,
 "nbformat_minor": 4
}
